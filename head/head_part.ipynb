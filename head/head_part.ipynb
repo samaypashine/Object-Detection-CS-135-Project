{
 "cells": [
  {
   "cell_type": "code",
   "execution_count": 2,
   "id": "7fdc4849",
   "metadata": {},
   "outputs": [
    {
     "ename": "ModuleNotFoundError",
     "evalue": "No module named 'tensorflow'",
     "output_type": "error",
     "traceback": [
      "\u001b[1;31m---------------------------------------------------------------------------\u001b[0m",
      "\u001b[1;31mModuleNotFoundError\u001b[0m                       Traceback (most recent call last)",
      "\u001b[1;32m<ipython-input-2-e4e7850b1044>\u001b[0m in \u001b[0;36m<module>\u001b[1;34m\u001b[0m\n\u001b[0;32m      1\u001b[0m \u001b[1;34m\"\"\"Implements the head of YOLOv4, including the SPP and the modified PAN\"\"\"\u001b[0m\u001b[1;33m\u001b[0m\u001b[1;33m\u001b[0m\u001b[0m\n\u001b[1;32m----> 2\u001b[1;33m \u001b[1;32mimport\u001b[0m \u001b[0mtensorflow\u001b[0m \u001b[1;32mas\u001b[0m \u001b[0mtf\u001b[0m\u001b[1;33m\u001b[0m\u001b[1;33m\u001b[0m\u001b[0m\n\u001b[0m\u001b[0;32m      3\u001b[0m \u001b[1;33m\u001b[0m\u001b[0m\n\u001b[0;32m      4\u001b[0m \u001b[1;32mfrom\u001b[0m \u001b[0mtf2_yolov4\u001b[0m\u001b[1;33m.\u001b[0m\u001b[0mlayers\u001b[0m \u001b[1;32mimport\u001b[0m \u001b[0mconv_bn\u001b[0m\u001b[1;33m\u001b[0m\u001b[1;33m\u001b[0m\u001b[0m\n\u001b[0;32m      5\u001b[0m \u001b[1;33m\u001b[0m\u001b[0m\n",
      "\u001b[1;31mModuleNotFoundError\u001b[0m: No module named 'tensorflow'"
     ]
    }
   ],
   "source": [
    "\"\"\"Implements the head of YOLOv4, including the SPP and the modified PAN\"\"\"\n",
    "import tensorflow as tf\n",
    "\n",
    "from tf2_yolov4.layers import conv_bn\n",
    "\n",
    "\n",
    "def yolov4_neck(input_shapes):\n",
    "    \"\"\"\n",
    "    Implements the neck of YOLOv4, including the SPP and the modified PAN.\n",
    "    Args:\n",
    "        input_shapes (List[Tuple[int]]): List of 3 tuples, which are the output shapes of the backbone.\n",
    "            For CSPDarknet53, those are: [(52, 52, 256), (26, 26, 512), (13, 13, 1024)] for a (416, 416) input.\n",
    "    Returns:\n",
    "        tf.keras.Model: Head model\n",
    "    \"\"\"\n",
    "    input_1 = tf.keras.Input(shape=filter(None, input_shapes[0]))\n",
    "    input_2 = tf.keras.Input(shape=filter(None, input_shapes[1]))\n",
    "    input_3 = tf.keras.Input(shape=filter(None, input_shapes[2]))\n",
    "\n",
    "    x = conv_bn(input_3, filters=512, kernel_size=1, strides=1, activation=\"leaky_relu\")\n",
    "    x = conv_bn(x, filters=1024, kernel_size=3, strides=1, activation=\"leaky_relu\")\n",
    "    x = conv_bn(x, filters=1024, kernel_size=3, strides=1, activation=\"leaky_relu\")\n",
    "    x = conv_bn(x, filters=512, kernel_size=1, strides=1, activation=\"leaky_relu\")\n",
    "    x = conv_bn(x, filters=512, kernel_size=1, strides=1, activation=\"leaky_relu\")\n",
    "    \n",
    "\n",
    "    maxpool_1 = tf.keras.layers.MaxPool2D((5, 5), strides=1, padding=\"same\")(x)\n",
    "    maxpool_2 = tf.keras.layers.MaxPool2D((9, 9), strides=1, padding=\"same\")(x)\n",
    "    maxpool_3 = tf.keras.layers.MaxPool2D((13, 13), strides=1, padding=\"same\")(x)\n",
    "    maxpool_4 = tf.keras.layers.MaxPool2D((26, 26), strides=1, padding=\"same\")(x)\n",
    "    maxpool_5 = tf.keras.layers.MaxPool2D((54, 54), strides=1, padding=\"same\")(x)\n",
    "\n",
    "    spp = tf.keras.layers.Concatenate()([maxpool_5,maxpool_4,maxpool_3, maxpool_2, maxpool_1, x])\n",
    "\n",
    "    x = conv_bn(spp, filters=512, kernel_size=1, strides=1, activation=\"leaky_relu\")\n",
    "    x = conv_bn(x, filters=512, kernel_size=1, strides=1, activation=\"leaky_relu\")\n",
    "    x = conv_bn(x, filters=1024, kernel_size=3, strides=1, activation=\"leaky_relu\")\n",
    "    x = conv_bn(x, filters=1024, kernel_size=3, strides=1, activation=\"leaky_relu\")\n",
    "    \n",
    "    output_3 = conv_bn(x, filters=512, kernel_size=1, strides=1, activation=\"leaky_relu\")\n",
    "    x = conv_bn(output_3, filters=256, kernel_size=1, strides=1, activation=\"leaky_relu\")\n",
    "\n",
    "    upsampled = tf.keras.layers.UpSampling2D()(x)\n",
    "\n",
    "    x = conv_bn(input_2, filters=256, kernel_size=1, strides=1, activation=\"leaky_relu\")\n",
    "    x = tf.keras.layers.Concatenate()([x, upsampled])\n",
    "\n",
    "    x = conv_bn(x, filters=256, kernel_size=1, strides=1, activation=\"leaky_relu\")\n",
    "    x = conv_bn(x, filters=512, kernel_size=3, strides=1, activation=\"leaky_relu\")\n",
    "    x = conv_bn(x, filters=256, kernel_size=1, strides=1, activation=\"leaky_relu\")\n",
    "    x = conv_bn(x, filters=512, kernel_size=3, strides=1, activation=\"leaky_relu\")\n",
    "    x = conv_bn(x, filters=256, kernel_size=1, strides=1, activation=\"leaky_relu\")\n",
    "    x = conv_bn(x, filters=512, kernel_size=3, strides=1, activation=\"leaky_relu\")\n",
    "    x = conv_bn(x, filters=256, kernel_size=1, strides=1, activation=\"leaky_relu\")\n",
    "    x = conv_bn(x, filters=512, kernel_size=3, strides=1, activation=\"leaky_relu\")\n",
    "    output_2 = conv_bn(x, filters=256, kernel_size=1, strides=1, activation=\"leaky_relu\")\n",
    "    x = conv_bn(output_2, filters=128, kernel_size=1, strides=1, activation=\"leaky_relu\")\n",
    "\n",
    "    upsampled = tf.keras.layers.UpSampling2D()(x)\n",
    "\n",
    "    x = conv_bn(input_1, filters=128, kernel_size=1, strides=1, activation=\"leaky_relu\")\n",
    "    x = tf.keras.layers.Concatenate()([x, upsampled])\n",
    "\n",
    "    x = conv_bn(x, filters=128, kernel_size=1, strides=1, activation=\"leaky_relu\")\n",
    "    x = conv_bn(x, filters=256, kernel_size=3, strides=1, activation=\"leaky_relu\")\n",
    "    x = conv_bn(x, filters=128, kernel_size=1, strides=1, activation=\"leaky_relu\")\n",
    "    x = conv_bn(x, filters=256, kernel_size=3, strides=1, activation=\"leaky_relu\")\n",
    "    x = conv_bn(x, filters=128, kernel_size=1, strides=1, activation=\"leaky_relu\")\n",
    "    x = conv_bn(x, filters=256, kernel_size=3, strides=1, activation=\"leaky_relu\")\n",
    "    x = conv_bn(x, filters=128, kernel_size=1, strides=1, activation=\"leaky_relu\")\n",
    "    x = conv_bn(x, filters=256, kernel_size=3, strides=1, activation=\"leaky_relu\")\n",
    "    output_1 = conv_bn(x, filters=128, kernel_size=1, strides=1, activation=\"leaky_relu\")\n",
    "\n",
    "    return tf.keras.Model([input_1, input_2, input_3], [output_1, output_2, output_3], name=\"YOLOv4_head\")\n"
   ]
  },
  {
   "cell_type": "code",
   "execution_count": null,
   "id": "cab7f4f7",
   "metadata": {},
   "outputs": [],
   "source": []
  }
 ],
 "metadata": {
  "kernelspec": {
   "display_name": "Python 3",
   "language": "python",
   "name": "python3"
  },
  "language_info": {
   "codemirror_mode": {
    "name": "ipython",
    "version": 3
   },
   "file_extension": ".py",
   "mimetype": "text/x-python",
   "name": "python",
   "nbconvert_exporter": "python",
   "pygments_lexer": "ipython3",
   "version": "3.8.8"
  }
 },
 "nbformat": 4,
 "nbformat_minor": 5
}
